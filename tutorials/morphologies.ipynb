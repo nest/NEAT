{
 "cells": [
  {
   "cell_type": "markdown",
   "metadata": {},
   "source": [
    "# Interact with morphologies through `neat.MorphTree`"
   ]
  },
  {
   "cell_type": "markdown",
   "metadata": {},
   "source": [
    "To illustrate some of the basic functionalities of `neat.MorphTree`, we'll read in and analyze a simple ball- and stick model."
   ]
  },
  {
   "cell_type": "code",
   "execution_count": 1,
   "metadata": {},
   "outputs": [],
   "source": [
    "from neat import MorphTree, MorphNode, MorphLoc\n",
    "# load the model\n",
    "m_tree = MorphTree('morph/ball_and_stick.swc')"
   ]
  },
  {
   "cell_type": "markdown",
   "metadata": {},
   "source": [
    "A morphology consists of nodes, that each store the 3d coordinates and radii of the segments on the morphology. A node can be accessed by its index."
   ]
  },
  {
   "cell_type": "code",
   "execution_count": 2,
   "metadata": {},
   "outputs": [
    {
     "name": "stdout",
     "output_type": "stream",
     "text": [
      "SNode 1\n",
      "[0. 0. 0.]\n",
      "10.0\n",
      "SNode 4\n",
      "[499.   0.   0.]\n",
      "1.0\n"
     ]
    }
   ],
   "source": [
    "# soma node (always index 1)\n",
    "print(m_tree[1])\n",
    "print(m_tree[1].xyz) # 3d coordinates\n",
    "print(m_tree[1].R) # radius\n",
    "# dendritic node\n",
    "print(m_tree[4])\n",
    "print(m_tree[4].xyz) # 3d coordinates\n",
    "print(m_tree[4].R) # radius"
   ]
  },
  {
   "cell_type": "markdown",
   "metadata": {},
   "source": [
    "Note that according to the `.swc` convention, the soma node has index 1. Morphologies should follow the three-point soma convention (<http://neuromorpho.org/SomaFormat.html>). Hence, the first dendritic node has index 4. \n",
    "\n",
    "Iterating over nodes is intuitive and happens in a depth firs order. By default, nodes 2 and 3 are skipped in iterations."
   ]
  },
  {
   "cell_type": "code",
   "execution_count": 3,
   "metadata": {},
   "outputs": [
    {
     "name": "stdout",
     "output_type": "stream",
     "text": [
      "SNode 1\n",
      "SNode 4\n",
      "SNode 5\n"
     ]
    }
   ],
   "source": [
    "for node in m_tree: print(node)"
   ]
  },
  {
   "cell_type": "markdown",
   "metadata": {},
   "source": [
    "We can also iterate over a subtree of the tree when we specify its root to the iterator."
   ]
  },
  {
   "cell_type": "code",
   "execution_count": 4,
   "metadata": {},
   "outputs": [
    {
     "name": "stdout",
     "output_type": "stream",
     "text": [
      "SNode 4\n",
      "SNode 5\n"
     ]
    }
   ],
   "source": [
    "for node in m_tree.__iter__(m_tree[4]): print(node)"
   ]
  },
  {
   "cell_type": "markdown",
   "metadata": {},
   "source": [
    "## Computational tree"
   ]
  },
  {
   "cell_type": "markdown",
   "metadata": {},
   "source": [
    "Solving the cable equation on a morphology is often expensive, hence, `MorphTree` defines a \"computational tree\" that replaces the the individual nodes between bifurcations with equivalent cylinders. A second three of lower resolution is thus defined."
   ]
  },
  {
   "cell_type": "code",
   "execution_count": 5,
   "metadata": {},
   "outputs": [],
   "source": [
    "m_tree.set_comp_tree()"
   ]
  },
  {
   "cell_type": "markdown",
   "metadata": {},
   "source": [
    "The computational tree can be activated using the `MorphTree.as_computational_tree` context:"
   ]
  },
  {
   "cell_type": "code",
   "execution_count": 6,
   "metadata": {},
   "outputs": [
    {
     "name": "stdout",
     "output_type": "stream",
     "text": [
      ">>> computational tree\n",
      "SNode 1, R (um) = 10.0, L (um) = 0.0\n",
      "SNode 5, R (um) = 1.0, L (um) = 1001.0\n",
      ">>> original tree\n",
      "SNode 1, R (um) = 10.0, L (um) = 0.0\n",
      "SNode 4, R (um) = 1.0, L (um) = 499.0\n",
      "SNode 5, R (um) = 1.0, L (um) = 502.0\n"
     ]
    }
   ],
   "source": [
    "# let's print the nodes and their respective length and radii for both trees\n",
    "with m_tree.as_computational_tree:\n",
    "    print('>>> computational tree')\n",
    "    for node in m_tree: print(str(node) + ', R (um) = ' + str(node.R) + ', L (um) = ' + str(node.L))\n",
    "print('>>> original tree')\n",
    "for node in m_tree: print(str(node) + ', R (um) = ' + str(node.R) + ', L (um) = ' + str(node.L))"
   ]
  },
  {
   "cell_type": "markdown",
   "metadata": {},
   "source": [
    "It is important to be aware of the fact that under the hood need uses the computational tree to speed up certain calculations, but you will rarely have to set it yourself, as all functions to compute e.g. impedances, automatically set the activate the computational tree."
   ]
  },
  {
   "cell_type": "markdown",
   "metadata": {},
   "source": [
    "## Locations"
   ]
  },
  {
   "cell_type": "markdown",
   "metadata": {},
   "source": [
    "Locations on a morphology are defined relative to the original node structure. A location consists of two coordinates: the node index and an $x$ $(\\in [0,1])$-coordinate, specifying the relative position of the location between the node and its parent node ($x=0$ means that the location is at the parent node's 3d coordinates whereas $x=1$ means that it's at the node's coordinates). Locations are instantiated from a tuple or dictionary"
   ]
  },
  {
   "cell_type": "code",
   "execution_count": null,
   "metadata": {},
   "outputs": [],
   "source": [
    "loc1 = MorphLoc({'node': 4, 'x': .2}) # a location close to the soma\n",
    "loc2 = MorphLoc((5, .8)) # a location close to the dendritic tip"
   ]
  },
  {
   "cell_type": "markdown",
   "metadata": {},
   "source": [
    "Lists of Location can also be stored under a given name. Locations in the list can be specified as tuple, dict, or `neat.MorphLoc`. Internally, they are all automatically converted to `neat.MorphLoc`s. "
   ]
  },
  {
   "cell_type": "code",
   "execution_count": 7,
   "metadata": {},
   "outputs": [],
   "source": [
    "loc1_ = {'node': 4, 'x': .2} # a location close to the soma\n",
    "loc2_ = (5, .8) # a location close to the dendritic tip\n",
    "m_tree.store_locs([loc1_, loc2_], name='my_favourite_locs')"
   ]
  },
  {
   "cell_type": "markdown",
   "metadata": {},
   "source": [
    "Note that any NEAT function converts locations internally to :class:`MorphLoc` instances, that return the coordinates relative to the original or the computational tree, depending on which one is active. \n",
    "Locations can be retrieved as well (note that they are returned as :class:`MorphLoc` instances)."
   ]
  },
  {
   "cell_type": "code",
   "execution_count": 8,
   "metadata": {},
   "outputs": [
    {
     "name": "stdout",
     "output_type": "stream",
     "text": [
      "[{'node': 4, 'x': 0.20 }, {'node': 5, 'x': 0.80 }]\n",
      "{'node': 4, 'x': 0.20 }\n",
      "original 4 0.2\n",
      "computational 5 0.09970029970029971\n"
     ]
    }
   ],
   "source": [
    "locs = m_tree.get_locs('my_favourite_locs')\n",
    "# returned as MorphLoc instances\n",
    "print(isinstance(locs[0], MorphLoc))\n",
    "# always print the original coordinates\n",
    "print(locs[0])\n",
    "# but returned coordinate value depends on the active tree\n",
    "print('original', locs[0]['node'], locs[0]['x'])\n",
    "with m_tree.as_computational_tree:\n",
    "    print('computational', locs[0]['node'], locs[0]['x'])"
   ]
  },
  {
   "cell_type": "markdown",
   "metadata": {},
   "source": [
    "Locations can also easily be compared, where the comparison operator takes into account whether the locations are topologically the same."
   ]
  },
  {
   "cell_type": "code",
   "execution_count": 9,
   "metadata": {},
   "outputs": [
    {
     "data": {
      "text/plain": [
       "1"
      ]
     },
     "execution_count": 9,
     "metadata": {},
     "output_type": "execute_result"
    }
   ],
   "source": [
    "MorphLoc((4, 1.)) == MorphLoc((5, 0.))"
   ]
  },
  {
   "cell_type": "markdown",
   "metadata": {},
   "source": [
    "A number of functions are implemented that distribute locations on the morphology (`MorphTree.distribute_locs_at_d2s()`, `MorphTree.distribute_locs_uniform()`, `MorphTree.distribute_locs_random()`). We refer to the documentation for their specific uses. For now we'll distribute a set of locations uniformly on the morphology with a spacing of approximately 4 $\\mu$m."
   ]
  },
  {
   "cell_type": "code",
   "execution_count": 10,
   "metadata": {},
   "outputs": [],
   "source": [
    "locs = m_tree.distribute_locs_uniform(dx=4.)"
   ]
  },
  {
   "cell_type": "markdown",
   "metadata": {},
   "source": [
    "We can also evaluate the path length (the length of the shortest path, in $\\mu$m) between locations:"
   ]
  },
  {
   "cell_type": "code",
   "execution_count": 11,
   "metadata": {},
   "outputs": [
    {
     "name": "stdout",
     "output_type": "stream",
     "text": [
      "4.0040000000000004\n"
     ]
    }
   ],
   "source": [
    "print(m_tree.path_length(locs[0], locs[1]))"
   ]
  },
  {
   "cell_type": "markdown",
   "metadata": {},
   "source": [
    "## Nodearg"
   ]
  },
  {
   "cell_type": "markdown",
   "metadata": {},
   "source": [
    "To look at the more advanced functionality of `MorphTree`, we'll read in a real morphology"
   ]
  },
  {
   "cell_type": "code",
   "execution_count": 12,
   "metadata": {},
   "outputs": [],
   "source": [
    "m_tree = MorphTree('morph/N19ttwt.CNG.swc')\n",
    "m_tree.set_comp_tree()"
   ]
  },
  {
   "cell_type": "markdown",
   "metadata": {},
   "source": [
    "In NEAT, functions that run over a set of nodes require a `node_arg`, which specifies which set of nodes. For all it's uses, we refer to the documentation of `MorphTree.convert_node_arg_to_nodes()`. Now, we'll use it to distribute locations uniformly on the subtree of node 76."
   ]
  },
  {
   "cell_type": "code",
   "execution_count": 13,
   "metadata": {},
   "outputs": [],
   "source": [
    "subtree_locs = m_tree.distribute_locs_uniform(dx=15., node_arg=m_tree[74], name='subtree')"
   ]
  },
  {
   "cell_type": "markdown",
   "metadata": {},
   "source": [
    "Note that this set of locations is stored under the name `'subtree'`"
   ]
  },
  {
   "cell_type": "markdown",
   "metadata": {},
   "source": [
    "## Plotting"
   ]
  },
  {
   "cell_type": "markdown",
   "metadata": {},
   "source": [
    "We can plot 2D projections of the morphology with `MorphTree.plot_2d_morphology()`. This function has many options, we'll use this function to plot the morphology of the granule cell in combination with the locations defined before."
   ]
  },
  {
   "cell_type": "code",
   "execution_count": 14,
   "metadata": {},
   "outputs": [
    {
     "data": {
      "image/png": "[encoded data removed]",
      "text/plain": [
       "<Figure size 432x288 with 1 Axes>"
      ]
     },
     "metadata": {
      "needs_background": "light"
     },
     "output_type": "display_data"
    }
   ],
   "source": [
    "import matplotlib.pyplot as pl\n",
    "pl.figure()\n",
    "ax = pl.gca() # axes object needs to be passed to NEAT plot function\n",
    "m_tree.plot_2d_morphology(ax, marklocs=subtree_locs, loc_args=dict(marker='o', mec='r', mfc='y'))\n",
    "pl.show()"
   ]
  },
  {
   "cell_type": "markdown",
   "metadata": {},
   "source": [
    "We can also unravel the morphology on a 1 dimensional axis (depth-first ordering). That way we can visualize the value of field defined on the morphology (such as membrance voltage)."
   ]
  },
  {
   "cell_type": "code",
   "execution_count": 15,
   "metadata": {},
   "outputs": [
    {
     "data": {
      "image/png": "[encoded data removed]",
      "text/plain": [
       "<Figure size 432x288 with 1 Axes>"
      ]
     },
     "metadata": {
      "needs_background": "light"
     },
     "output_type": "display_data"
    }
   ],
   "source": [
    "# We have to define a set of locations on the morphology at which the function is evaluated (here dx ~ 4 um)\n",
    "m_tree.make_x_axis(4.)\n",
    "# create a function\n",
    "import numpy as np\n",
    "d2s = m_tree.distances_to_soma('xaxis') # the distances to the soma (in um) of the locations stored under 'xaxis'\n",
    "y_arr = np.sin(d2s/200.) # function to be plotted\n",
    "# plot the function\n",
    "ax = pl.figure().gca()\n",
    "m_tree.plot_1d(ax, y_arr, lw='2', c='r') # we can use the same keyword arguments as for the matplotlib plot function\n",
    "pl.show()"
   ]
  },
  {
   "cell_type": "markdown",
   "metadata": {},
   "source": [
    "As such, it is not very clear which x-value corresponds with which location on the morphology. To remedy this, we can color each branch of the morphology differently and color the x-axis accordingly."
   ]
  },
  {
   "cell_type": "code",
   "execution_count": 16,
   "metadata": {},
   "outputs": [
    {
     "data": {
      "image/png": "[encoded data removed]",
      "text/plain": [
       "<Figure size 432x288 with 2 Axes>"
      ]
     },
     "metadata": {
      "needs_background": "light"
     },
     "output_type": "display_data"
    }
   ],
   "source": [
    "from matplotlib import cm\n",
    "pl.figure()\n",
    "ax1 = pl.subplot(121); ax2 = pl.subplot(122)\n",
    "# to color the x-axis, node colors have to be set first\n",
    "m_tree.set_node_colors()\n",
    "# plot the morphology with associated colors\n",
    "m_tree.plot_2d_morphology(ax1, cs='x_color', cmap=pl.get_cmap('jet'), plotargs={'lw':3})\n",
    "# plot the function\n",
    "m_tree.plot_1d(ax2, y_arr, lw='2', c='r') \n",
    "# color the x-axis of the plot according to the branch where each location is situated \n",
    "m_tree.color_x_axis(ax2, cmap=pl.get_cmap('jet'))"
   ]
  },
  {
   "cell_type": "markdown",
   "metadata": {},
   "source": [
    "Note that `MorphTree.color_x_axis()` gets its y-coordinates for the colored line as the axes limits. If the limits are changed after the colored axis is added, this may result in funky position for the colored line. Hence, only call this function after all lines are added to the plot."
   ]
  },
  {
   "cell_type": "markdown",
   "metadata": {},
   "source": [
    "We can also plot fields defined on the morphology as a function of the distance to the soma."
   ]
  },
  {
   "cell_type": "code",
   "execution_count": 17,
   "metadata": {},
   "outputs": [
    {
     "data": {
      "image/png": "[encoded data removed]",
      "text/plain": [
       "<Figure size 432x288 with 1 Axes>"
      ]
     },
     "metadata": {
      "needs_background": "light"
     },
     "output_type": "display_data"
    }
   ],
   "source": [
    "ax = pl.figure().gca()\n",
    "m_tree.plot_true_d2s(ax, y_arr, c='r')\n",
    "pl.show()\n"
   ]
  },
  {
   "cell_type": "markdown",
   "metadata": {},
   "source": [
    "Note that here we only see a single line as our field is only a function of the distance to the soma."
   ]
  },
  {
   "cell_type": "markdown",
   "metadata": {},
   "source": [
    "Finally, we may want to select a custom set of locations on the morphology. To get the node indices, NEAT implements an interactive plot function that, when one clicks on a location of the morphology, the indices of nearby nodes are printed as well as their distances to the soma (although the interactive part does not seem to run in the notebook, but it works when you just run python)."
   ]
  },
  {
   "cell_type": "code",
   "execution_count": 18,
   "metadata": {},
   "outputs": [
    {
     "data": {
      "image/png": "[encoded data removed]",
      "text/plain": [
       "<Figure size 432x288 with 1 Axes>"
      ]
     },
     "metadata": {
      "needs_background": "light"
     },
     "output_type": "display_data"
    }
   ],
   "source": [
    "m_tree.plot_morphology_interactive()"
   ]
  },
  {
   "cell_type": "markdown",
   "metadata": {},
   "source": [
    "## Resampling"
   ]
  },
  {
   "cell_type": "markdown",
   "metadata": {},
   "source": [
    "Some applications may require a resampling of the tree. A tree can be resampled starting from any given set of locations (although low resolution sets may give funny results). The positions of the nodes of the new tree in 3d space will then correspond to positions of the locations on the old tree. Note that the soma or the original tree is added by default, even if it is not in the set of locations."
   ]
  },
  {
   "cell_type": "code",
   "execution_count": 19,
   "metadata": {},
   "outputs": [
    {
     "data": {
      "image/png": "[encoded data removed]",
      "text/plain": [
       "<Figure size 432x288 with 1 Axes>"
      ]
     },
     "metadata": {
      "needs_background": "light"
     },
     "output_type": "display_data"
    }
   ],
   "source": [
    "# create the resampled tree\n",
    "m_tree_resampled = m_tree.create_new_tree('subtree')\n",
    "# plot the resampled tree\n",
    "ax = pl.figure().gca()\n",
    "m_tree_resampled.plot_2d_morphology(ax)\n",
    "pl.show()"
   ]
  }
 ],
 "metadata": {
  "kernelspec": {
   "display_name": "Python 3",
   "language": "python",
   "name": "python3"
  },
  "language_info": {
   "codemirror_mode": {
    "name": "ipython",
    "version": 3
   },
   "file_extension": ".py",
   "mimetype": "text/x-python",
   "name": "python",
   "nbconvert_exporter": "python",
   "pygments_lexer": "ipython3",
   "version": "3.7.6"
  }
 },
 "nbformat": 4,
 "nbformat_minor": 2
}
