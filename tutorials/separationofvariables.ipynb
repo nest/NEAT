{
 "cells": [
  {
   "cell_type": "markdown",
   "metadata": {},
   "source": [
    "# Compute the separation of variables expansion with `neat.SOVTree`"
   ]
  },
  {
   "cell_type": "markdown",
   "metadata": {},
   "source": [
    "The separation of variables expansion [-@Major1993] computes impedance kernels as superpositions of exponentials:\n",
    "\\begin{align}\n",
    "z_{x^{\\prime}x}(t) = \\sum_{k=0}^{\\infty} e^{-\\frac{t}{\\tau_k}} \\, \\phi_k(x^{\\prime}) \\, \\phi_k(x)\n",
    "\\end{align}\n",
    "which can be used to compute PSP responses to current inputs analytically, or even to simulate the neuron model as:\n",
    "\\begin{align}\n",
    "\\dot{y}_k(t) &= -\\frac{y_k(t)}{\\tau_k} + \\int \\mathrm{d}x \\, \\phi_k(x) \\, I(x, t, V(x,t)) \\hspace{4mm} \\forall k \\\\\n",
    "V(x,t) &= \\sum_k \\phi_k(x) \\, y_k(t),\n",
    "\\end{align}\n",
    "with $I(x,t, V(x,t))$ the possibly voltage-dependent input current at location $x$ along the dendrite and at time $t$.\n",
    "\n",
    "`neat.SOVTree` implements Major's algorithm [-@Major1993] to compute the SOV solution. A `neat.SOVTree` is initialized like any other `neat` tree:"
   ]
  },
  {
   "cell_type": "code",
   "execution_count": 1,
   "metadata": {},
   "outputs": [
    {
     "name": "stdout",
     "output_type": "stream",
     "text": [
      "\n",
      "              -- N E S T --\n",
      "  Copyright (C) 2004 The NEST Initiative\n",
      "\n",
      " Version: 3.8.0-post0.dev0\n",
      " Built: Jan 10 2025 14:51:17\n",
      "\n",
      " This program is provided AS IS and comes with\n",
      " NO WARRANTY. See the file LICENSE for details.\n",
      "\n",
      " Problems or suggestions?\n",
      "   Visit https://www.nest-simulator.org\n",
      "\n",
      " Type 'nest.help()' to find out more about NEST.\n",
      "\n"
     ]
    }
   ],
   "source": [
    "import numpy as np\n",
    "import matplotlib.pyplot as pl\n",
    "\n",
    "from neat import SOVTree\n",
    "\n",
    "# load the tree\n",
    "sov_tree = SOVTree('morph/N19ttwt.CNG.swc')\n",
    "# capacitane 1 uF/cm^2 and axial resistance 0.0001 MOhm*cm\n",
    "sov_tree.set_physiology(1., 0.0001)\n",
    "# fit the leak conductance to have an equilibrium potential of -75. and a\n",
    "# uniform membrane time scale of 10 ms\n",
    "sov_tree.fit_leak_current(-75., 10.)\n",
    "# set the computational tree\n",
    "sov_tree.set_comp_tree()\n"
   ]
  },
  {
   "cell_type": "markdown",
   "metadata": {},
   "source": [
    "Then, the exponential time-scales $\\tau_k$ are computed as the zeros of the transcendental equation."
   ]
  },
  {
   "cell_type": "code",
   "execution_count": 2,
   "metadata": {},
   "outputs": [],
   "source": [
    "# construct transcendental equation\n",
    "sov_tree.calc_sov_equations(maxspace_freq=100.)"
   ]
  },
  {
   "cell_type": "markdown",
   "metadata": {},
   "source": [
    "We may then obtain the exponential time-scales $\\tau_k$ and associated spatial functions $\\phi_k(x_i)$, the latter evaluated at a set of locations $(x_1, ..., x_N)$. In this case, we will only plot the spatial modes, so we define a set of locations that is good for plotting spatial functions defined on the morphology ('xaxis')."
   ]
  },
  {
   "cell_type": "code",
   "execution_count": 3,
   "metadata": {},
   "outputs": [],
   "source": [
    "# creates and stores (under the name 'xaxis') a set of locations on the morphology good for plotting\n",
    "sov_tree.make_x_axis()"
   ]
  },
  {
   "cell_type": "markdown",
   "metadata": {},
   "source": [
    "To asses the importance of a mode for the voltage dynamics at a given set of locations, we use the metric\n",
    "\\begin{align}\n",
    "\\text{Imp}_k = \\sqrt{\\tau_k \\left( \\sum_{i=0}^N \\sum_{j=0}^N \\phi_k(x_i) \\, \\phi_k(x_j) \\right) }\n",
    "\\end{align}\n",
    "We may then obtain the most important SOV terms at the set of locations stored under 'xaxis':"
   ]
  },
  {
   "cell_type": "code",
   "execution_count": 4,
   "metadata": {},
   "outputs": [],
   "source": [
    "alphas, phimat = sov_tree.get_sov_matrices('xaxis')"
   ]
  },
  {
   "cell_type": "markdown",
   "metadata": {},
   "source": [
    "We can also define a cutoff threshold. Modes with relative importance below this threshold ($\\text{Imp}_k < \\epsilon \\, \\text{Imp}_0$) are not returned"
   ]
  },
  {
   "cell_type": "code",
   "execution_count": 5,
   "metadata": {},
   "outputs": [
    {
     "name": "stdout",
     "output_type": "stream",
     "text": [
      "Number of SOV terms in alphas = 120\n",
      "Number of SOV terms in alphas_ = 37\n"
     ]
    }
   ],
   "source": [
    "alphas_, phimat_ = sov_tree.get_important_modes(loc_arg='xaxis', eps=1e-3)\n",
    "# compare the size of alphas with the size of alphas_\n",
    "print('Number of SOV terms in alphas =', alphas.shape[0])\n",
    "print('Number of SOV terms in alphas_ =', alphas_.shape[0])"
   ]
  },
  {
   "cell_type": "markdown",
   "metadata": {},
   "source": [
    "Note furthermore that this function returns the reciprocals of the timescales $\\alpha_k = \\frac{1}{\\tau_k}$, in kHz. The time-scales can be obtained in ms as:"
   ]
  },
  {
   "cell_type": "code",
   "execution_count": 6,
   "metadata": {},
   "outputs": [
    {
     "name": "stdout",
     "output_type": "stream",
     "text": [
      "tau_k (k=0,...36) =\n",
      " [10.          1.17930791  0.87175063  0.74621091  0.61592058  0.55352705\n",
      "  0.51001138  0.46019773  0.33093398  0.22778449  0.18268101  0.1810243\n",
      "  0.15825737  0.1555517   0.09367747  0.08063473  0.07379258  0.06509325\n",
      "  0.05731892  0.0533252   0.04952842  0.04547815  0.03806818  0.03576512\n",
      "  0.02960574  0.0277235   0.02652117  0.02224916  0.02059959  0.02033902\n",
      "  0.02004149  0.0193636   0.01900246  0.01658901  0.01623951  0.01467919\n",
      "  0.01362795]\n"
     ]
    }
   ],
   "source": [
    "print('tau_k (k=0,...36) =\\n',1./alphas_)"
   ]
  },
  {
   "cell_type": "markdown",
   "metadata": {},
   "source": [
    "The spatial functions are returned as the second argument of `SOVTree.getSOVMatrics()` or `SOVTree.get_important_modes()`. The first dimension signifies the index of the SOV term and the second dimension the index of the location."
   ]
  },
  {
   "cell_type": "code",
   "execution_count": 7,
   "metadata": {},
   "outputs": [
    {
     "name": "stdout",
     "output_type": "stream",
     "text": [
      "`phimat` is evaluated for 37 SOV terms and at 223 locations, stored under 'xaxis'\n"
     ]
    }
   ],
   "source": [
    "print('`phimat` is evaluated for %d SOV terms and at %d locations, stored under \\'xaxis\\''%phimat_.shape)"
   ]
  },
  {
   "cell_type": "markdown",
   "metadata": {},
   "source": [
    "Finally, we may plot these spatial functions by unraveling the morphology on a one-dimensional axis."
   ]
  },
  {
   "cell_type": "code",
   "execution_count": 8,
   "metadata": {},
   "outputs": [
    {
     "name": "stderr",
     "output_type": "stream",
     "text": [
      "/Users/wybo/Code/NEAT_public/src/neat/trees/morphtree.py:2767: SyntaxWarning:invalid escape sequence '\\m'\n"
     ]
    },
    {
     "ename": "TypeError",
     "evalue": "string indices must be integers, not 'str'",
     "output_type": "error",
     "traceback": [
      "\u001b[0;31m---------------------------------------------------------------------------\u001b[0m",
      "\u001b[0;31mTypeError\u001b[0m                                 Traceback (most recent call last)",
      "Cell \u001b[0;32mIn[8], line 6\u001b[0m\n\u001b[1;32m      4\u001b[0m ax0 \u001b[38;5;241m=\u001b[39m pl\u001b[38;5;241m.\u001b[39msubplot(\u001b[38;5;241m121\u001b[39m)\n\u001b[1;32m      5\u001b[0m sov_tree\u001b[38;5;241m.\u001b[39mset_node_colors()\n\u001b[0;32m----> 6\u001b[0m \u001b[43msov_tree\u001b[49m\u001b[38;5;241;43m.\u001b[39;49m\u001b[43mplot_2d_morphology\u001b[49m\u001b[43m(\u001b[49m\u001b[43max0\u001b[49m\u001b[43m,\u001b[49m\u001b[43m \u001b[49m\u001b[43mcs\u001b[49m\u001b[38;5;241;43m=\u001b[39;49m\u001b[38;5;124;43m'\u001b[39;49m\u001b[38;5;124;43mx_color\u001b[39;49m\u001b[38;5;124;43m'\u001b[39;49m\u001b[43m,\u001b[49m\u001b[43m \u001b[49m\u001b[43mcmap\u001b[49m\u001b[38;5;241;43m=\u001b[39;49m\u001b[43mpl\u001b[49m\u001b[38;5;241;43m.\u001b[39;49m\u001b[43mget_cmap\u001b[49m\u001b[43m(\u001b[49m\u001b[38;5;124;43m'\u001b[39;49m\u001b[38;5;124;43mjet\u001b[39;49m\u001b[38;5;124;43m'\u001b[39;49m\u001b[43m)\u001b[49m\u001b[43m,\u001b[49m\u001b[43m \u001b[49m\u001b[43mplotargs\u001b[49m\u001b[38;5;241;43m=\u001b[39;49m\u001b[43m{\u001b[49m\u001b[38;5;124;43m'\u001b[39;49m\u001b[38;5;124;43mlw\u001b[39;49m\u001b[38;5;124;43m'\u001b[39;49m\u001b[43m:\u001b[49m\u001b[38;5;241;43m3\u001b[39;49m\u001b[43m}\u001b[49m\u001b[43m)\u001b[49m\n\u001b[1;32m      7\u001b[0m \u001b[38;5;66;03m# plot the spatial mode functions\u001b[39;00m\n\u001b[1;32m      8\u001b[0m ax1 \u001b[38;5;241m=\u001b[39m pl\u001b[38;5;241m.\u001b[39msubplot(\u001b[38;5;241m122\u001b[39m)\n",
      "File \u001b[0;32m~/Code/NEAT_public/src/neat/trees/morphtree.py:2993\u001b[0m, in \u001b[0;36mMorphTree.plot_2d_morphology\u001b[0;34m(self, ax, node_arg, cs, cminmax, cmap, use_radius, draw_soma_circle, plotargs, textargs, marklocs, loc_args, marklabels, labelargs, cb_draw, cb_orientation, cb_label, sb_draw, sb_scale, sb_width, set_lims, lims_margin, soma_pos)\u001b[0m\n\u001b[1;32m   2991\u001b[0m \u001b[38;5;28;01mif\u001b[39;00m cminmax \u001b[38;5;129;01mis\u001b[39;00m \u001b[38;5;28;01mNone\u001b[39;00m:\n\u001b[1;32m   2992\u001b[0m     \u001b[38;5;28;01mif\u001b[39;00m \u001b[38;5;28mlen\u001b[39m(cs) \u001b[38;5;241m>\u001b[39m \u001b[38;5;241m0\u001b[39m:\n\u001b[0;32m-> 2993\u001b[0m         max_cs \u001b[38;5;241m=\u001b[39m cs[\u001b[38;5;28;43mmax\u001b[39;49m\u001b[43m(\u001b[49m\u001b[43mcs\u001b[49m\u001b[43m,\u001b[49m\u001b[43m \u001b[49m\u001b[43mkey\u001b[49m\u001b[38;5;241;43m=\u001b[39;49m\u001b[43mcs\u001b[49m\u001b[38;5;241;43m.\u001b[39;49m\u001b[38;5;21;43m__getitem__\u001b[39;49m\u001b[43m)\u001b[49m]  \u001b[38;5;66;03m# works for dict and list\u001b[39;00m\n\u001b[1;32m   2994\u001b[0m         min_cs \u001b[38;5;241m=\u001b[39m cs[\u001b[38;5;28mmin\u001b[39m(cs, key\u001b[38;5;241m=\u001b[39mcs\u001b[38;5;241m.\u001b[39m\u001b[38;5;21m__getitem__\u001b[39m)]  \u001b[38;5;66;03m# works for dict and list\u001b[39;00m\n\u001b[1;32m   2995\u001b[0m     \u001b[38;5;28;01melse\u001b[39;00m:\n",
      "\u001b[0;31mTypeError\u001b[0m: string indices must be integers, not 'str'"
     ]
    },
    {
     "data": {
      "image/png": "[encoded data removed]",
      "text/plain": [
       "<Figure size 1200x600 with 1 Axes>"
      ]
     },
     "metadata": {},
     "output_type": "display_data"
    }
   ],
   "source": [
    "pl.figure(figsize=(12,6))\n",
    "colours = list(pl.rcParams['axes.prop_cycle'].by_key()['color'])\n",
    "# plot the morphology\n",
    "ax0 = pl.subplot(121)\n",
    "# sov_tree.set_node_colors()\n",
    "sov_tree.plot_2d_morphology(ax0, cs='node_color', cmap=pl.get_cmap('jet'), plotargs={'lw':3})\n",
    "# plot the spatial mode functions\n",
    "ax1 = pl.subplot(122)\n",
    "for ii, phi in enumerate(phimat_[:10]):\n",
    "    sov_tree.plot_1d(ax1, phi.real, c=colours[ii%len(colours)],\n",
    "                    label=r'$\\tau_'+'{%d} = %.5f$ ms'%(ii, 1./alphas_[ii].real))\n",
    "sov_tree.color_x_axis(ax1, cmap=pl.get_cmap('jet'))\n",
    "ax1.legend(loc='lower center', ncol=3, bbox_to_anchor=(.5,.9))\n",
    "\n",
    "pl.tight_layout()\n",
    "pl.show()"
   ]
  }
 ],
 "metadata": {
  "kernelspec": {
   "display_name": "Python 3",
   "language": "python",
   "name": "python3"
  },
  "language_info": {
   "codemirror_mode": {
    "name": "ipython",
    "version": 3
   },
   "file_extension": ".py",
   "mimetype": "text/x-python",
   "name": "python",
   "nbconvert_exporter": "python",
   "pygments_lexer": "ipython3",
   "version": "3.12.1"
  }
 },
 "nbformat": 4,
 "nbformat_minor": 4
}
